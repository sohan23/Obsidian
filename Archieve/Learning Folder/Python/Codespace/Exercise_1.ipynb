{
  "cells": [
    {
      "attachments": {},
      "cell_type": "markdown",
      "metadata": {
        "colab_type": "text",
        "id": "view-in-github"
      },
      "source": [
        "<a href=\"https://colab.research.google.com/github/sohan23/Obsidian/blob/master/Learning%20Folder/Python/Codespace/Exercise_1.ipynb\" target=\"_parent\"><img src=\"https://colab.research.google.com/assets/colab-badge.svg\" alt=\"Open In Colab\"/></a>"
      ]
    },
    {
      "attachments": {},
      "cell_type": "markdown",
      "metadata": {
        "id": "3NGPAsBCukXY"
      },
      "source": [
        "# Exercise 1\n",
        "\n",
        "## Problem 1 - Defining some variables\n",
        "In the top cell of the new notebook:\n",
        "\n",
        "* Create a variable called `ice_cream_rating` and use it to store an integer value (whole number) between 0 and 10 that reflects your general opinion about how much you enjoy eating ice cream.\n",
        "\n",
        "* Create another variable called `sleeping_rating` and use it to store another integer between 0 and 10 that reflects your opinion about how much you enjoy sleeping.\n",
        "\n",
        "* Run the cell by pressing `Shift-Enter`."
      ]
    },
    {
      "cell_type": "code",
      "execution_count": null,
      "metadata": {
        "id": "PpmRpFUsuj4o"
      },
      "outputs": [],
      "source": [
        "# assign variable\n",
        "ice_cream_rating = int(input(\"What is your ice cream rating? \").replace(\" \", \"\"));\n",
        "sleeping_rating = int(input(\"What is your sleeping rating? \").replace(\" \", \"\"));"
      ]
    },
    {
      "attachments": {},
      "cell_type": "markdown",
      "metadata": {
        "id": "-OMPDIgVvVLB"
      },
      "source": [
        "## Problem 2 - Reading in variable values\n",
        "In the new cell that appears:\n",
        "\n",
        "* Use the `input()` function to prompt the user to enter their first name and store it in a variable called `first_name`.\n",
        "\n",
        "* Use the `input()` function again to prompt the user to enter their last name and store it in a variable called `last_name`.\n",
        "\n",
        "* (Optional) Define a third variable called `my_name` that will combine the user's first and last names into a single character string with a space between the names.\n",
        "\n",
        "* Run the cell and enter the requested information at the prompts."
      ]
    },
    {
      "cell_type": "code",
      "execution_count": null,
      "metadata": {
        "colab": {
          "base_uri": "https://localhost:8080/"
        },
        "id": "og4bzPsevibb",
        "outputId": "30ba6856-a2a6-41f2-eeac-b3a7cee5612d"
      },
      "outputs": [],
      "source": [
        "# first_name = str(input(\"Enter your name: \").replace(\" \",\"\"));\n",
        "# last_name = str(input(\"Enter your name: \").replace(\" \",\"\"));\n",
        "# my_name = (first_name) +' '+(last_name)\n",
        "# print(my_name)\n",
        "\n",
        "\n",
        "\"\"\"\n",
        "While python code takes whatever input as a input and returns as a string,therefore no need to use 'str' as a function. \n",
        "If we want only alphabets as a input then we can use 'isalpha()' function. Then the code will be like this:\n",
        "\"\"\"\n",
        "first_name = input(\"Enter your first name: \")\n",
        "while not first_name.isalpha(): # isalpha() function checks whether the string consists of alphabets or not\n",
        "    first_name = input(\"Invalid input. Enter your first name: \")\n",
        "\n",
        "last_name = input(\"Enter your last name: \")\n",
        "while not last_name.isalpha(): # isalpha() function checks whether the string consists of alphabets or not\n",
        "    last_name = input(\"Invalid input. Enter your last name: \")\n",
        "\n",
        "my_name = first_name + \" \" + last_name\n",
        "print(my_name)\n"
      ]
    },
    {
      "attachments": {},
      "cell_type": "markdown",
      "metadata": {},
      "source": [
        "## Problem 3 - A bit of math\n",
        "In order to assess happiness it is necessary to combine the ice cream and sleeping ratings. To do this:\n",
        "\n",
        "* Calculate the average of your `ice_cream_rating` and `sleeping_rating` variables and store the resulting value in a variable called `happiness_rating`.\n",
        "\n",
        "* Run the cell by pressing Shift-Enter."
      ]
    },
    {
      "cell_type": "code",
      "execution_count": null,
      "metadata": {},
      "outputs": [],
      "source": [
        "# ice_cream_rating = int(input(\"Enter your ice cream rating: \")).replace(\" \", \"\");\n",
        "# sleeping_rating = int(input(\"Enter your sleeping rating: \")).replace(\" \", \"\");\n",
        "\n",
        "# happiness_rating = (ice_cream_rating + sleeping_rating)/2 # average of ice cream and sleeping rating\n",
        "# print(happiness_rating)\n",
        "\n",
        "'''\n",
        "This above code takes any integer value as a input and returns the average of the two integer values. But then the scale of the average value will be different from the scale of the input values. To limitthe scale of the input values we can use 'if' 'else' statement. Then the code will be like this:\n",
        "'''\n",
        "while True:\n",
        "    try:\n",
        "        ice_cream_rating = int(input(\"Enter your ice cream rating (0-10): \"))\n",
        "        if 0 <= ice_cream_rating <= 10:\n",
        "            break\n",
        "        else:\n",
        "            print(\"Invalid input. Please enter a number between 0 and 10.\")\n",
        "    except ValueError:\n",
        "        print(\"Invalid input. Please enter a number between 0 and 10.\")\n",
        "\n",
        "while True:\n",
        "    try:\n",
        "        sleeping_rating = int(input(\"Enter your sleeping rating (0-10): \"))\n",
        "        if 0 <= sleeping_rating <= 10:\n",
        "            break\n",
        "        else:\n",
        "            print(\"Invalid input. Please enter a number between 0 and 10.\")\n",
        "    except ValueError:\n",
        "        print(\"Invalid input. Please enter a number between 0 and 10.\")\n",
        "\n",
        "print(\"Your ice cream rating is:\", ice_cream_rating);\n",
        "print(\"Your sleeping rating is:\", sleeping_rating);\n",
        "\n",
        "# average of ice cream and sleeping rating\n",
        "happiness_rating = (ice_cream_rating + sleeping_rating)/2 # average of ice cream and sleeping rating\n",
        "print(happiness_rating)"
      ]
    },
    {
      "attachments": {},
      "cell_type": "markdown",
      "metadata": {},
      "source": [
        "## Problem 4 - Checking data types\n",
        "The next step is to investigate the kinds of data we're working with. In another Python cell:\n",
        "\n",
        "* Use a built-in Python function to check the data types of the `ice_cream_rating`, `first_name`, and `happiness_rating` variables. In order to see the data types for more than one variable in a single Python cell, you will need to print out these values using another built-in Python function.\n",
        "\n",
        "* Run the cell by pressing Shift-Enter.\n",
        "\n",
        "* Did all of the data types make sense? Were there any data types that were different than you expected? In the new Python cell that appeared after running the code above, enter your responses to the questions above.\n",
        "\n",
        "* For the cell containing your answers to the questions above, change the kind of cell from Code to Markdown.\n",
        "\n",
        "* Run the Markdown cell by pressing Shift-Enter."
      ]
    },
    {
      "cell_type": "code",
      "execution_count": null,
      "metadata": {},
      "outputs": [],
      "source": [
        "# data type of variable\n",
        "print(type(ice_cream_rating))\n",
        "print(type(happiness_rating))\n",
        "print(type(first_name))"
      ]
    },
    {
      "attachments": {},
      "cell_type": "markdown",
      "metadata": {},
      "source": [
        "The `first_name` is not defined because of there is no definite input given for that."
      ]
    },
    {
      "attachments": {},
      "cell_type": "markdown",
      "metadata": {},
      "source": [
        "# Problem 5 - Displaying text on the screen\n",
        "Use one command to generate each line of output.\n",
        "```\n",
        "My name is Dave and I give eating ice cream a score of 9 out of 10!\n",
        "I am Dave Whipp and my sleeping enjoyment rating is 8 / 10!\n",
        "Based on the factors above, my happiness rating is 8.5 out of 10, or 85.0 %!\n",
        "```\n",
        "Note that your code should replace “Dave” with the contents of your `first_name` variable, “9” with your value stored in the variable `ice_cream_rating`, etc. For your equivalent text with the full name (e.g., \"Dave Whipp\"), you can either use the values from the variables `first_name` and `last_name`, or the value in variable `my_name`."
      ]
    },
    {
      "cell_type": "code",
      "execution_count": 15,
      "metadata": {},
      "outputs": [
        {
          "name": "stdout",
          "output_type": "stream",
          "text": [
            "My name is Sohan and I give eating ice cream a score of 6 out of 10!\n",
            "I am Sohan Nag and my sleeping enjoyment rating is 9 / 10!\n",
            "Based on the factors above, my happiness rating is 7.5 out of 10, or 75.0 %!\n"
          ]
        }
      ],
      "source": [
        "first_name = input(\"Enter your first name: \")\n",
        "while not first_name.isalpha(): # isalpha() function checks whether the string consists of alphabets or not\n",
        "    first_name = input(\"Invalid input. Enter your first name: \")\n",
        "\n",
        "last_name = input(\"Enter your last name: \")\n",
        "while not last_name.isalpha(): # isalpha() function checks whether the string consists of alphabets or not\n",
        "    last_name = input(\"Invalid input. Enter your last name: \")\n",
        "\n",
        "while True:\n",
        "    try:\n",
        "        ice_cream_rating = int(input(\"Enter your ice cream rating (0-10): \"))\n",
        "        if 0 <= ice_cream_rating <= 10:\n",
        "            break\n",
        "        else:\n",
        "            print(\"Invalid input. Please enter a number between 0 and 10.\")\n",
        "    except ValueError:\n",
        "        print(\"Invalid input. Please enter a number between 0 and 10.\")\n",
        "\n",
        "while True:\n",
        "    try:\n",
        "        sleeping_rating = int(input(\"Enter your sleeping rating (0-10): \"))\n",
        "        if 0 <= sleeping_rating <= 10:\n",
        "            break\n",
        "        else:\n",
        "            print(\"Invalid input. Please enter a number between 0 and 10.\")\n",
        "    except ValueError:\n",
        "        print(\"Invalid input. Please enter a number between 0 and 10.\")\n",
        "\n",
        "happiness_rating = (ice_cream_rating + sleeping_rating)/2 # average of ice cream and sleeping rating\n",
        "\n",
        "print(\"My name is\", first_name,\"and I give eating ice cream a score of\", ice_cream_rating,\"out of 10!\")\n",
        "print(\"I am\", first_name, last_name,\"and my sleeping enjoyment rating is\", sleeping_rating,\"/ 10!\") \n",
        "print(\"Based on the factors above, my happiness rating is\", happiness_rating,\"out of 10, or\", happiness_rating*10,\"%!\")"
      ]
    }
  ],
  "metadata": {
    "colab": {
      "authorship_tag": "ABX9TyN6+XaXdzIDhe/+7KVDfH9z",
      "include_colab_link": true,
      "mount_file_id": "1975P1NN5gKpA4wbpsKhlaljoDvuLXLSD",
      "provenance": []
    },
    "kernelspec": {
      "display_name": "Python 3",
      "name": "python3"
    },
    "language_info": {
      "codemirror_mode": {
        "name": "ipython",
        "version": 3
      },
      "file_extension": ".py",
      "mimetype": "text/x-python",
      "name": "python",
      "nbconvert_exporter": "python",
      "pygments_lexer": "ipython3",
      "version": "3.11.4"
    }
  },
  "nbformat": 4,
  "nbformat_minor": 0
}
