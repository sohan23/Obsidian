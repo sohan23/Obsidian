{
  "nbformat": 4,
  "nbformat_minor": 0,
  "metadata": {
    "colab": {
      "provenance": [],
      "authorship_tag": "ABX9TyOO9LGPgjwbkZmJppVottZq",
      "include_colab_link": true
    },
    "kernelspec": {
      "name": "python3",
      "display_name": "Python 3"
    },
    "language_info": {
      "name": "python"
    }
  },
  "cells": [
    {
      "cell_type": "markdown",
      "metadata": {
        "id": "view-in-github",
        "colab_type": "text"
      },
      "source": [
        "<a href=\"https://colab.research.google.com/github/sohan23/Obsidian/blob/master/Template%20Folder/4.ipynb\" target=\"_parent\"><img src=\"https://colab.research.google.com/assets/colab-badge.svg\" alt=\"Open In Colab\"/></a>"
      ]
    },
    {
      "cell_type": "code",
      "source": [
        "import time\n",
        "import os\n",
        "\n",
        "def save_notebook():\n",
        "  \"\"\"Saves the current notebook to GitHub.\"\"\"\n",
        "  notebook_name = os.path.basename(os.getcwd())\n",
        "  git_repo = \"https://github.com/sohan23/SandMining_final.git\"\n",
        "  command = \"git add .\"\n",
        "  command += \" && git commit -m 'Autosave'\"\n",
        "  command += \" && git push\"\n",
        "  os.system(command)\n",
        "\n",
        "if __name__ == \"__main__\":\n",
        "  save_notebook()"
      ],
      "metadata": {
        "id": "Rd8Jzha0DzfS"
      },
      "execution_count": 3,
      "outputs": []
    }
  ]
}