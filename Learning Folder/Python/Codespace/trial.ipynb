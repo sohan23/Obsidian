{
 "cells": [
  {
   "cell_type": "code",
   "execution_count": null,
   "metadata": {},
   "outputs": [],
   "source": [
    "import random\n",
    "import time\n",
    "\n",
    "def draw_box(width, height):\n",
    "  print(\"+\" + \"-\" * width + \"+\")\n",
    "  for i in range(height - 2):\n",
    "    print(\"| \" + \" \" * (width - 2) + \" |\")\n",
    "  print(\"+\" + \"-\" * width + \"+\")\n",
    "\n",
    "def draw_ball(x, y):\n",
    "  print(\"o\" + \" \" * (x - 2) + \"o\")\n",
    "\n",
    "def move_ball(x, y, dx, dy):\n",
    "  x += dx\n",
    "  y += dy\n",
    "  if x < 0 or x >= width:\n",
    "    dx *= -1\n",
    "  if y < 0 or y >= height:\n",
    "    dy *= -1\n",
    "  return x, y, dx, dy\n",
    "\n",
    "def main():\n",
    "  width = 20\n",
    "  height = 10\n",
    "  x = random.randint(0, width - 1)\n",
    "  y = random.randint(0, height - 1)\n",
    "  dx = 1\n",
    "  dy = 1\n",
    "  while True:\n",
    "    draw_box(width, height)\n",
    "    draw_ball(x, y)\n",
    "    time.sleep(0.1)\n",
    "    x, y, dx, dy = move_ball(x, y, dx, dy)\n",
    "\n",
    "if __name__ == \"__main__\":\n",
    "  main()\n"
   ]
  }
 ],
 "metadata": {
  "kernelspec": {
   "display_name": "Python 3 (ipykernel)",
   "language": "python",
   "name": "python3"
  },
  "language_info": {
   "name": "python",
   "version": "3.11.4"
  },
  "orig_nbformat": 4
 },
 "nbformat": 4,
 "nbformat_minor": 2
}
