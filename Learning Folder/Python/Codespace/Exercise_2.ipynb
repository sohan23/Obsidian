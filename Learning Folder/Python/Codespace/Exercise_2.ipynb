{
  "nbformat": 4,
  "nbformat_minor": 0,
  "metadata": {
    "colab": {
      "provenance": [],
      "mount_file_id": "1m6pH4f205BoBgAf5ITPlZPn6uFVwWY0H",
      "authorship_tag": "ABX9TyNyoZPF2WOOP6M+80Z2WN/u",
      "include_colab_link": true
    },
    "kernelspec": {
      "name": "python3",
      "display_name": "Python 3"
    },
    "language_info": {
      "name": "python"
    }
  },
  "cells": [
    {
      "cell_type": "markdown",
      "metadata": {
        "id": "view-in-github",
        "colab_type": "text"
      },
      "source": [
        "<a href=\"https://colab.research.google.com/github/sohan23/Obsidian/blob/master/Learning%20Folder/Python/Codespace/Exercise_2.ipynb\" target=\"_parent\"><img src=\"https://colab.research.google.com/assets/colab-badge.svg\" alt=\"Open In Colab\"/></a>"
      ]
    },
    {
      "cell_type": "markdown",
      "source": [
        "# Pull the exercise from the repo\n",
        "git clone https://github.com/Geo-Python-2022/exercise-2-sohan23"
      ],
      "metadata": {
        "id": "taB2Dwa5ZGqY"
      }
    },
    {
      "cell_type": "code",
      "execution_count": 4,
      "metadata": {
        "colab": {
          "base_uri": "https://localhost:8080/"
        },
        "id": "5mC1xAl9ZA1g",
        "outputId": "a91e98d2-aa04-4a1d-9126-97bf1cb52885"
      },
      "outputs": [
        {
          "output_type": "stream",
          "name": "stdout",
          "text": [
            "fatal: not a git repository (or any of the parent directories): .git\n",
            "drive  sample_data\n",
            "Cloning into 'exercise-2-sohan23'...\n",
            "fatal: could not read Username for 'https://github.com': No such device or address\n"
          ]
        }
      ],
      "source": [
        "!git pull https://github.com/Geo-Python-2022/exercise-2-sohan23\n",
        "!ls\n",
        "!git clone https://github.com/Geo-Python-2022/exercise-2-sohan23"
      ]
    }
  ]
}