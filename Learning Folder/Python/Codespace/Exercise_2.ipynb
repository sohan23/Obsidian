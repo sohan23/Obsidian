{
  "cells": [
    {
      "cell_type": "markdown",
      "metadata": {
        "colab_type": "text",
        "id": "view-in-github"
      },
      "source": [
        "<a href=\"https://colab.research.google.com/github/sohan23/Obsidian/blob/master/Learning%20Folder/Python/Codespace/Exercise_2.ipynb\" target=\"_parent\"><img src=\"https://colab.research.google.com/assets/colab-badge.svg\" alt=\"Open In Colab\"/></a>"
      ]
    },
    {
      "cell_type": "markdown",
      "metadata": {
        "id": "taB2Dwa5ZGqY"
      },
      "source": [
        "# Pull the exercise from the repo\n",
        "git clone https://github.com/Geo-Python-2022/exercise-2-sohan23"
      ]
    },
    {
      "cell_type": "code",
      "execution_count": 1,
      "metadata": {
        "colab": {
          "base_uri": "https://localhost:8080/"
        },
        "id": "5mC1xAl9ZA1g",
        "outputId": "a91e98d2-aa04-4a1d-9126-97bf1cb52885"
      },
      "outputs": [
        {
          "name": "stderr",
          "output_type": "stream",
          "text": [
            "From https://github.com/Geo-Python-2022/exercise-2-sohan23\n",
            " * branch            HEAD       -> FETCH_HEAD\n",
            "fatal: refusing to merge unrelated histories\n"
          ]
        }
      ],
      "source": [
        "!git pull https://github.com/Geo-Python-2022/exercise-2-sohan23\n",
        "# !ls\n",
        "# !git clone https://github.com/Geo-Python-2022/exercise-2-sohan23"
      ]
    }
  ],
  "metadata": {
    "colab": {
      "authorship_tag": "ABX9TyNyoZPF2WOOP6M+80Z2WN/u",
      "include_colab_link": true,
      "mount_file_id": "1m6pH4f205BoBgAf5ITPlZPn6uFVwWY0H",
      "provenance": []
    },
    "kernelspec": {
      "display_name": "Python 3",
      "name": "python3"
    },
    "language_info": {
      "codemirror_mode": {
        "name": "ipython",
        "version": 3
      },
      "file_extension": ".py",
      "mimetype": "text/x-python",
      "name": "python",
      "nbconvert_exporter": "python",
      "pygments_lexer": "ipython3",
      "version": "3.11.4"
    }
  },
  "nbformat": 4,
  "nbformat_minor": 0
}
