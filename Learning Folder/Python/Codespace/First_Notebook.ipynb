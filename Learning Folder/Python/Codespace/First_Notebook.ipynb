{
  "nbformat": 4,
  "nbformat_minor": 0,
  "metadata": {
    "colab": {
      "provenance": [],
      "mount_file_id": "1lbXB2z-loubo-G20U_9VOIkRolAMEgTN",
      "authorship_tag": "ABX9TyM8J9dAkU/hGrG+hCTJ1uhY",
      "include_colab_link": true
    },
    "kernelspec": {
      "name": "python3",
      "display_name": "Python 3"
    },
    "language_info": {
      "name": "python"
    }
  },
  "cells": [
    {
      "cell_type": "markdown",
      "metadata": {
        "id": "view-in-github",
        "colab_type": "text"
      },
      "source": [
        "<a href=\"https://colab.research.google.com/github/sohan23/Obsidian/blob/master/Learning%20Folder/Python/Codespace/First_Notebook.ipynb\" target=\"_parent\"><img src=\"https://colab.research.google.com/assets/colab-badge.svg\" alt=\"Open In Colab\"/></a>"
      ]
    },
    {
      "cell_type": "markdown",
      "source": [
        "# This is the first notebook for the learning of Geo-Python\n",
        "\n",
        "### Intro\n",
        "This is a course developed by the University of Helsinki The course is quite beginer in nature. Later on we will also go into the deep section of Machine Learning algorithms."
      ],
      "metadata": {
        "id": "q0G2fODKkZXI"
      }
    },
    {
      "cell_type": "markdown",
      "source": [
        "To save a notebook to a different folder in your Drive, you can use the 'save' command. For example, to save a notebook to a folder called *My Projects*, you would run the following command:"
      ],
      "metadata": {
        "id": "rsrqXB1Hk5MC"
      }
    },
    {
      "cell_type": "code",
      "execution_count": 11,
      "metadata": {
        "colab": {
          "base_uri": "https://localhost:8080/"
        },
        "id": "KyCVdrsujAjd",
        "outputId": "e4da18bd-82f8-4f75-c355-3fcea2cd8876"
      },
      "outputs": [
        {
          "output_type": "stream",
          "name": "stdout",
          "text": [
            "/bin/bash: save: command not found\n"
          ]
        }
      ],
      "source": [
        "\"\"\"\n",
        "Please don't run this command unless you have nothing to go on!\n",
        "\"\"\"\n",
        "#!save /content/First Notebook.ipynb /content/drive/My Drive/Colab Notebooks/Geo-Python/First Notebook.ipynb"
      ]
    },
    {
      "cell_type": "markdown",
      "source": [
        "#### To learn the course we need to clone the repo for Geo-Pythn environment."
      ],
      "metadata": {
        "id": "NhAHgtSOmDnv"
      }
    },
    {
      "cell_type": "code",
      "source": [
        "\"\"\"\n",
        "There's a high possibility that this repo would work on the other notebooks created.\\\n",
        "If not the try to install the repo one more time.\n",
        "\n",
        "# Clone Geo-Python environment files\n",
        "\"\"\"\n",
        "# !git clone https://github.com/geo-python/python-environments/\n",
        "\n",
        "\"\"\"\n",
        "To check if the installed repo in your env, use\n",
        "\"\"\"\n",
        "# !ls"
      ],
      "metadata": {
        "colab": {
          "base_uri": "https://localhost:8080/",
          "height": 35
        },
        "id": "EJtmZzaXmcd_",
        "outputId": "95c1c3e5-7fe6-409c-8087-b411c8b004ae"
      },
      "execution_count": 15,
      "outputs": [
        {
          "output_type": "execute_result",
          "data": {
            "text/plain": [
              "'\\nTo check if the installed repo in your env, use\\n'"
            ],
            "application/vnd.google.colaboratory.intrinsic+json": {
              "type": "string"
            }
          },
          "metadata": {},
          "execution_count": 15
        }
      ]
    },
    {
      "cell_type": "code",
      "source": [
        "!pip install nose"
      ],
      "metadata": {
        "colab": {
          "base_uri": "https://localhost:8080/"
        },
        "id": "YVTp9BY4qr9q",
        "outputId": "bc188126-db1f-4f4e-e588-c598e4008ab3"
      },
      "execution_count": 20,
      "outputs": [
        {
          "output_type": "stream",
          "name": "stdout",
          "text": [
            "Looking in indexes: https://pypi.org/simple, https://us-python.pkg.dev/colab-wheels/public/simple/\n",
            "Collecting nose\n",
            "  Downloading nose-1.3.7-py3-none-any.whl (154 kB)\n",
            "\u001b[2K     \u001b[90m━━━━━━━━━━━━━━━━━━━━━━━━━━━━━━━━━━━━━━━\u001b[0m \u001b[32m154.7/154.7 kB\u001b[0m \u001b[31m4.0 MB/s\u001b[0m eta \u001b[36m0:00:00\u001b[0m\n",
            "\u001b[?25hInstalling collected packages: nose\n",
            "Successfully installed nose-1.3.7\n"
          ]
        }
      ]
    }
  ]
}