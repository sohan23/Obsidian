{
  "cells": [
    {
      "cell_type": "markdown",
      "metadata": {
        "colab_type": "text",
        "id": "view-in-github"
      },
      "source": [
        "<a href=\"https://colab.research.google.com/github/sohan23/Obsidian/blob/master/Learning%20Folder/Python/Codespace/Exercise_1.ipynb\" target=\"_parent\"><img src=\"https://colab.research.google.com/assets/colab-badge.svg\" alt=\"Open In Colab\"/></a>"
      ]
    },
    {
      "cell_type": "markdown",
      "metadata": {
        "id": "3NGPAsBCukXY"
      },
      "source": [
        "# Exercise 1\n",
        "\n",
        "## Problem 1 - Defining some variables\n",
        "In the top cell of the new notebook:\n",
        "\n",
        "* Create a variable called `ice_cream_rating` and use it to store an integer value (whole number) between 0 and 10 that reflects your general opinion about how much you enjoy eating ice cream.\n",
        "\n",
        "* Create another variable called `sleeping_rating` and use it to store another integer between 0 and 10 that reflects your opinion about how much you enjoy sleeping.\n",
        "\n",
        "* Run the cell by pressing `Shift-Enter`."
      ]
    },
    {
      "cell_type": "code",
      "execution_count": null,
      "metadata": {
        "id": "PpmRpFUsuj4o"
      },
      "outputs": [],
      "source": [
        "# assign variable\n",
        "ice_cream_rating = input(\"What is your ice cream rating? \").replace(\" \", \"\");\n",
        "sleeping_rating = input(\"What is your sleeping rating? \").replace(\" \", \"\");"
      ]
    },
    {
      "cell_type": "markdown",
      "metadata": {
        "id": "-OMPDIgVvVLB"
      },
      "source": [
        "## Problem 2 - Reading in variable values\n",
        "In the new cell that appears:\n",
        "\n",
        "* Use the `input()` function to prompt the user to enter their first name and store it in a variable called `first_name`.\n",
        "\n",
        "* Use the `input()` function again to prompt the user to enter their last name and store it in a variable called `last_name`.\n",
        "\n",
        "* (Optional) Define a third variable called `my_name` that will combine the user's first and last names into a single character string with a space between the names.\n",
        "\n",
        "* Run the cell and enter the requested information at the prompts."
      ]
    },
    {
      "cell_type": "code",
      "execution_count": 6,
      "metadata": {
        "colab": {
          "base_uri": "https://localhost:8080/"
        },
        "id": "og4bzPsevibb",
        "outputId": "30ba6856-a2a6-41f2-eeac-b3a7cee5612d"
      },
      "outputs": [],
      "source": [
        "# first_name = str(input(\"Enter your name: \").replace(\" \",\"\"));\n",
        "# last_name = str(input(\"Enter your name: \").replace(\" \",\"\"));\n",
        "# my_name = (first_name) +' '+(last_name)\n",
        "# print(my_name)\n",
        "\n",
        "\n",
        "\"\"\"\n",
        "While python code takes whatever input as a input and returns as a string,therefore no need to use 'str' as a function. \n",
        "If we want only alphabets as a input then we can use 'isalpha()' function. Then the code will be like this:\n",
        "\"\"\"\n",
        "first_name = input(\"Enter your first name: \")\n",
        "while not first_name.isalpha(): # isalpha() function checks whether the string consists of alphabets or not\n",
        "    first_name = input(\"Invalid input. Enter your first name: \")\n",
        "\n",
        "last_name = input(\"Enter your last name: \")\n",
        "while not last_name.isalpha(): # isalpha() function checks whether the string consists of alphabets or not\n",
        "    last_name = input(\"Invalid input. Enter your last name: \")\n",
        "\n",
        "my_name = first_name + \" \" + last_name\n",
        "print(my_name)\n"
      ]
    },
    {
      "attachments": {},
      "cell_type": "markdown",
      "metadata": {},
      "source": [
        "## Problem 3 - A bit of math\n",
        "In order to assess happiness it is necessary to combine the ice cream and sleeping ratings. To do this:\n",
        "\n",
        "* Calculate the average of your `ice_cream_rating` and `sleeping_rating` variables and store the resulting value in a variable called `happiness_rating`.\n",
        "\n",
        "* Run the cell by pressing Shift-Enter."
      ]
    },
    {
      "cell_type": "code",
      "execution_count": null,
      "metadata": {},
      "outputs": [],
      "source": [
        "ice_cream_rating = int(input(\"Enter your ice cream rating: \"))"
      ]
    }
  ],
  "metadata": {
    "colab": {
      "authorship_tag": "ABX9TyN6+XaXdzIDhe/+7KVDfH9z",
      "include_colab_link": true,
      "mount_file_id": "1975P1NN5gKpA4wbpsKhlaljoDvuLXLSD",
      "provenance": []
    },
    "kernelspec": {
      "display_name": "Python 3",
      "name": "python3"
    },
    "language_info": {
      "codemirror_mode": {
        "name": "ipython",
        "version": 3
      },
      "file_extension": ".py",
      "mimetype": "text/x-python",
      "name": "python",
      "nbconvert_exporter": "python",
      "pygments_lexer": "ipython3",
      "version": "3.11.4"
    }
  },
  "nbformat": 4,
  "nbformat_minor": 0
}
