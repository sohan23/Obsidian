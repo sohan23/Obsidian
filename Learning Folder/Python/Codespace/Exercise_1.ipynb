{
  "nbformat": 4,
  "nbformat_minor": 0,
  "metadata": {
    "colab": {
      "provenance": [],
      "mount_file_id": "1975P1NN5gKpA4wbpsKhlaljoDvuLXLSD",
      "authorship_tag": "ABX9TyN6+XaXdzIDhe/+7KVDfH9z",
      "include_colab_link": true
    },
    "kernelspec": {
      "name": "python3",
      "display_name": "Python 3"
    },
    "language_info": {
      "name": "python"
    }
  },
  "cells": [
    {
      "cell_type": "markdown",
      "metadata": {
        "id": "view-in-github",
        "colab_type": "text"
      },
      "source": [
        "<a href=\"https://colab.research.google.com/github/sohan23/Obsidian/blob/master/Learning%20Folder/Python/Codespace/Exercise_1.ipynb\" target=\"_parent\"><img src=\"https://colab.research.google.com/assets/colab-badge.svg\" alt=\"Open In Colab\"/></a>"
      ]
    },
    {
      "cell_type": "markdown",
      "source": [
        "# Exercise 1\n",
        "\n",
        "## Problem 1 - Defining some variables\n",
        "In the top cell of the new notebook:\n",
        "\n",
        "* Create a variable called `ice_cream_rating` and use it to store an integer value (whole number) between 0 and 10 that reflects your general opinion about how much you enjoy eating ice cream.\n",
        "\n",
        "* Create another variable called `sleeping_rating` and use it to store another integer between 0 and 10 that reflects your opinion about how much you enjoy sleeping.\n",
        "\n",
        "* Run the cell by pressing `Shift-Enter`."
      ],
      "metadata": {
        "id": "3NGPAsBCukXY"
      }
    },
    {
      "cell_type": "code",
      "source": [
        "# assign variable\n",
        "ice_cream_rating = 6;\n",
        "sleeping_rating = 9;"
      ],
      "metadata": {
        "id": "PpmRpFUsuj4o"
      },
      "execution_count": 10,
      "outputs": []
    },
    {
      "cell_type": "markdown",
      "source": [
        "## Problem 2 - Reading in variable values\n",
        "In the new cell that appears:\n",
        "\n",
        "* Use the `input()` function to prompt the user to enter their first name and store it in a variable called `first_name`.\n",
        "\n",
        "* Use the `input()` function again to prompt the user to enter their last name and store it in a variable called `last_name`.\n",
        "\n",
        "* (Optional) Define a third variable called `my_name` that will combine the user's first and last names into a single character string with a space between the names.\n",
        "\n",
        "* Run the cell and enter the requested information at the prompts."
      ],
      "metadata": {
        "id": "-OMPDIgVvVLB"
      }
    },
    {
      "cell_type": "code",
      "source": [
        "first_name = input(\"Enter your name: \").replace(\" \",\"\");\n",
        "last_name = input(\"Enter your name: \").replace(\" \",\"\");\n",
        "my_name = (first_name) +' '+(last_name)\n",
        "print(my_name)"
      ],
      "metadata": {
        "colab": {
          "base_uri": "https://localhost:8080/"
        },
        "id": "og4bzPsevibb",
        "outputId": "30ba6856-a2a6-41f2-eeac-b3a7cee5612d"
      },
      "execution_count": 23,
      "outputs": [
        {
          "output_type": "stream",
          "name": "stdout",
          "text": [
            "Enter your name: Sohan     \n",
            "Enter your name:       Nag\n",
            "Sohan Nag\n"
          ]
        }
      ]
    },
    {
      "cell_type": "markdown",
      "source": [],
      "metadata": {
        "id": "mHLeab-F7lFm"
      }
    }
  ]
}