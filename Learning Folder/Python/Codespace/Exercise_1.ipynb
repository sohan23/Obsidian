{
  "cells": [
    {
      "cell_type": "markdown",
      "metadata": {
        "colab_type": "text",
        "id": "view-in-github"
      },
      "source": [
        "<a href=\"https://colab.research.google.com/github/sohan23/Obsidian/blob/master/Learning%20Folder/Python/Codespace/Exercise_1.ipynb\" target=\"_parent\"><img src=\"https://colab.research.google.com/assets/colab-badge.svg\" alt=\"Open In Colab\"/></a>"
      ]
    },
    {
      "cell_type": "markdown",
      "metadata": {
        "id": "3NGPAsBCukXY"
      },
      "source": [
        "# Exercise 1\n",
        "\n",
        "## Problem 1 - Defining some variables\n",
        "In the top cell of the new notebook:\n",
        "\n",
        "* Create a variable called `ice_cream_rating` and use it to store an integer value (whole number) between 0 and 10 that reflects your general opinion about how much you enjoy eating ice cream.\n",
        "\n",
        "* Create another variable called `sleeping_rating` and use it to store another integer between 0 and 10 that reflects your opinion about how much you enjoy sleeping.\n",
        "\n",
        "* Run the cell by pressing `Shift-Enter`."
      ]
    },
    {
      "cell_type": "code",
      "execution_count": 10,
      "metadata": {
        "id": "PpmRpFUsuj4o"
      },
      "outputs": [],
      "source": [
        "# assign variable\n",
        "ice_cream_rating = 6;\n",
        "sleeping_rating = 9;"
      ]
    },
    {
      "cell_type": "markdown",
      "metadata": {
        "id": "-OMPDIgVvVLB"
      },
      "source": [
        "## Problem 2 - Reading in variable values\n",
        "In the new cell that appears:\n",
        "\n",
        "* Use the `input()` function to prompt the user to enter their first name and store it in a variable called `first_name`.\n",
        "\n",
        "* Use the `input()` function again to prompt the user to enter their last name and store it in a variable called `last_name`.\n",
        "\n",
        "* (Optional) Define a third variable called `my_name` that will combine the user's first and last names into a single character string with a space between the names.\n",
        "\n",
        "* Run the cell and enter the requested information at the prompts."
      ]
    },
    {
      "cell_type": "code",
      "execution_count": 2,
      "metadata": {
        "colab": {
          "base_uri": "https://localhost:8080/"
        },
        "id": "og4bzPsevibb",
        "outputId": "492f8f14-7e8f-4fcd-c1ad-9feae9d351dc"
      },
      "outputs": [
        {
          "name": "stdout",
          "output_type": "stream",
          "text": [
            "Sohan Nag\n"
          ]
        }
      ],
      "source": [
        "first_name = input(\"Enter your first name: \").replace(\" \", \"\");\n",
        "last_name = input(\"Enter your first name: \").replace(\" \", \"\");\n",
        "my_name = (first_name) +' '+(last_name)\n",
        "print(my_name)"
      ]
    }
  ],
  "metadata": {
    "colab": {
      "authorship_tag": "ABX9TyNXZkXa1/Bun3e5KueRNFgy",
      "include_colab_link": true,
      "mount_file_id": "1975P1NN5gKpA4wbpsKhlaljoDvuLXLSD",
      "provenance": []
    },
    "kernelspec": {
      "display_name": "Python 3",
      "name": "python3"
    },
    "language_info": {
      "codemirror_mode": {
        "name": "ipython",
        "version": 3
      },
      "file_extension": ".py",
      "mimetype": "text/x-python",
      "name": "python",
      "nbconvert_exporter": "python",
      "pygments_lexer": "ipython3",
      "version": "3.11.4"
    }
  },
  "nbformat": 4,
  "nbformat_minor": 0
}
